{
  "cells": [
    {
      "cell_type": "code",
      "source": [
        "import warnings\n",
        "warnings.filterwarnings(\"ignore\")"
      ],
      "outputs": [],
      "execution_count": 1,
      "metadata": {}
    },
    {
      "cell_type": "markdown",
      "source": [
        "### Imports"
      ],
      "metadata": {}
    },
    {
      "cell_type": "code",
      "source": [
        "import numpy as np\n",
        "import pandas as pd\n",
        "from matplotlib import pyplot as plt\n",
        "from datetime import datetime, timedelta\n",
        "from tqdm import tqdm\n",
        "tqdm.pandas(desc=\"datetime_bar\")\n",
        "\n",
        "import lightgbm as lgb\n",
        "from sklearn.metrics import roc_auc_score, f1_score\n",
        "from sklearn.model_selection import StratifiedShuffleSplit, StratifiedKFold, cross_val_predict, cross_val_score\n",
        "from category_encoders import OneHotEncoder\n",
        "from sklearn.feature_extraction.text import TfidfVectorizer\n",
        "from sklearn.linear_model import LogisticRegression\n",
        "\n",
        "import seaborn as sns\n",
        "plt.style.use(\"bmh\")\n",
        "plt.rcParams['font.family'] = 'DejaVu Sans'"
      ],
      "outputs": [],
      "execution_count": 2,
      "metadata": {}
    },
    {
      "cell_type": "code",
      "source": [
        "import sys\n",
        "sys.path.append('functions/')\n",
        "from smooth_statistic import *"
      ],
      "outputs": [],
      "execution_count": 3,
      "metadata": {}
    },
    {
      "cell_type": "markdown",
      "source": [
        "### Datasets"
      ],
      "metadata": {}
    },
    {
      "cell_type": "code",
      "source": [
        "train = pd.read_pickle('./train_best.pkl')\n",
        "test = pd.read_pickle('./test_best.pkl')"
      ],
      "outputs": [],
      "execution_count": 4,
      "metadata": {}
    },
    {
      "cell_type": "markdown",
      "source": [
        "### Cols"
      ],
      "metadata": {}
    },
    {
      "cell_type": "code",
      "source": [
        "key_cols = ['app_id', 'target']\n",
        "cat_cols_for_smooth = ['currency_mode', 'card_type_mode', 'operation_type_mode', 'operation_type_group_mode',\n",
        "                       'mcc_mode', 'city_mode', 'mcc_category_mode', 'day_of_week_mode', 'hour_mode', 'last_day_mcc']"
      ],
      "outputs": [],
      "execution_count": 5,
      "metadata": {}
    },
    {
      "cell_type": "markdown",
      "source": [
        "# Add LR scores"
      ],
      "metadata": {}
    },
    {
      "cell_type": "markdown",
      "source": [
        "###### Mcc"
      ],
      "metadata": {}
    },
    {
      "cell_type": "code",
      "source": [
        "train_lr = pd.read_pickle('./tables_for_lr/train_ft_mcc.pkl')\n",
        "train_lr = train_lr[['app_id', 'mcc', 'flag']]\n",
        "\n",
        "test_lr = pd.read_pickle('./tables_for_lr/test_ft_mcc.pkl')\n",
        "test_lr = test_lr[['app_id', 'mcc']]\n",
        "\n",
        "tfidf = TfidfVectorizer()\n",
        "X_tfidf = tfidf.fit_transform(train_lr['mcc'])\n",
        "X_test_tfidf = tfidf.transform(test_lr['mcc'])\n",
        "\n",
        "model = LogisticRegression(C=5)\n",
        "kf = StratifiedKFold(n_splits=10, shuffle=True, random_state=42)\n",
        "lr_cv = cross_val_predict(estimator=model, X=X_tfidf, y=train_lr['flag'].values,\n",
        "                          cv=kf, n_jobs=15, method='predict_proba')[:, 1]\n",
        "\n",
        "model.fit(X_tfidf, train_lr['flag'].values)\n",
        "lr_test = model.predict_proba(X_test_tfidf)[:, 1]\n",
        "\n",
        "train_lr['score_mcc_lr'] = lr_cv\n",
        "train_lr = train_lr[['app_id', 'score_mcc_lr']]\n",
        "test_lr['score_mcc_lr'] = lr_test\n",
        "test_lr = test_lr[['app_id', 'score_mcc_lr']]\n",
        "\n",
        "train = train.merge(train_lr, how='left', on=['app_id'])\n",
        "test = test.merge(test_lr, how='left', on=['app_id'])"
      ],
      "outputs": [],
      "execution_count": 6,
      "metadata": {}
    },
    {
      "cell_type": "markdown",
      "source": [
        "# Add fasttext scores"
      ],
      "metadata": {}
    },
    {
      "cell_type": "markdown",
      "source": [
        "###### Mcc"
      ],
      "metadata": {}
    },
    {
      "cell_type": "code",
      "source": [
        "ft_cv = pd.read_csv('./tables_ft/ft_cv_mcc.csv')\n",
        "ft_test = pd.read_csv('./tables_ft/ft_test_mcc.csv')\n",
        "train = train.merge(ft_cv, how='inner', on=['app_id'])\n",
        "test = test.merge(ft_test, how='inner', on=['app_id'])"
      ],
      "outputs": [],
      "execution_count": 7,
      "metadata": {}
    },
    {
      "cell_type": "markdown",
      "source": [
        "###### Catr_type"
      ],
      "metadata": {}
    },
    {
      "cell_type": "code",
      "source": [
        "ft_cv = pd.read_csv('./tables_ft/ft_cv_card_type.csv')\n",
        "ft_test = pd.read_csv('./tables_ft/ft_test_card_type.csv')\n",
        "train = train.merge(ft_cv, how='inner', on=['app_id'])\n",
        "test = test.merge(ft_test, how='inner', on=['app_id'])"
      ],
      "outputs": [],
      "execution_count": 8,
      "metadata": {}
    },
    {
      "cell_type": "markdown",
      "source": [
        "# Smooth statistics"
      ],
      "metadata": {}
    },
    {
      "cell_type": "code",
      "source": [
        "kf = StratifiedKFold(n_splits=10, shuffle=True, random_state=42)\n",
        "train, test = calc_smooth_statistics_features(train, test, cat_cols_for_smooth, 'target', kf=kf)"
      ],
      "outputs": [
        {
          "output_type": "stream",
          "name": "stderr",
          "text": [
            "100%|██████████| 10/10 [04:09<00:00, 24.98s/it]\n"
          ]
        }
      ],
      "execution_count": 9,
      "metadata": {}
    },
    {
      "cell_type": "markdown",
      "source": [
        "# Categories"
      ],
      "metadata": {}
    },
    {
      "cell_type": "code",
      "source": [
        "test = test[train.columns]"
      ],
      "outputs": [],
      "execution_count": 10,
      "metadata": {}
    },
    {
      "cell_type": "code",
      "source": [
        "from category_encoders import OneHotEncoder\n",
        "ohe = OneHotEncoder(cols=['product'], use_cat_names=True)\n",
        "train = ohe.fit_transform(train)\n",
        "test = ohe.transform(test)"
      ],
      "outputs": [],
      "execution_count": 11,
      "metadata": {}
    },
    {
      "cell_type": "markdown",
      "source": [
        "# Add smooth"
      ],
      "metadata": {}
    },
    {
      "cell_type": "code",
      "source": [
        "train_smooth = pd.read_pickle('./train_smooth_.pkl').drop('target', axis=1)\n",
        "test_smooth = pd.read_pickle('./test_smooth_.pkl').drop('target', axis=1)"
      ],
      "outputs": [],
      "execution_count": 14,
      "metadata": {}
    },
    {
      "cell_type": "code",
      "source": [
        "train = train.merge(train_smooth, how='inner', on=['app_id'])\n",
        "test = test.merge(test_smooth, how='inner', on=['app_id'])"
      ],
      "outputs": [],
      "execution_count": 16,
      "metadata": {}
    },
    {
      "cell_type": "markdown",
      "source": [
        "_____"
      ],
      "metadata": {}
    },
    {
      "cell_type": "markdown",
      "source": [
        "# Model"
      ],
      "metadata": {}
    },
    {
      "cell_type": "code",
      "source": [
        "train_cols = train.columns.difference(key_cols + cat_cols_for_smooth)\n",
        "df_seed = test[['app_id']]\n",
        "train_data = lgb.Dataset(train[train_cols], label=train['target'])"
      ],
      "outputs": [],
      "execution_count": 14,
      "metadata": {}
    },
    {
      "cell_type": "code",
      "source": [
        "%%time\n",
        "for i in tqdm(range(25)):\n",
        "    params = {'metric' : 'auc',\n",
        "              'objective': 'binary',\n",
        "              'learning_rate': 0.03,\n",
        "              'boosting_type' : 'gbdt',\n",
        "              'n_jobs' : 15,\n",
        "              'verbose' : -1,\n",
        "\n",
        "              'num_leaves': 16,\n",
        "              'min_child_samples': 120,\n",
        "              'max_depth': 5,\n",
        "              'min_split_gain': 0.0,\n",
        "              'reg_alpha': 0.03,\n",
        "              'reg_lambda': 0.03,\n",
        "              'feature_fraction': 0.7,\n",
        "              'bagging_freq': 2,\n",
        "              'bagging_fraction': 0.85,\n",
        "\n",
        "              'seed': i\n",
        "    }\n",
        "    lgbm = lgb.train(params, train_data, num_boost_round=2650, valid_sets=[train_data], verbose_eval=3000)\n",
        "    df_seed['model_' + str(i)] = lgbm.predict(test[train_cols])"
      ],
      "outputs": [
        {
          "output_type": "stream",
          "name": "stderr",
          "text": [
            "100%|██████████| 25/25 [6:08:39<00:00, 884.77s/it]   "
          ]
        },
        {
          "output_type": "stream",
          "name": "stdout",
          "text": [
            "CPU times: user 2d 3h 8min 24s, sys: 11min 53s, total: 2d 3h 20min 17s\n",
            "Wall time: 6h 8min 39s\n"
          ]
        },
        {
          "output_type": "stream",
          "name": "stderr",
          "text": [
            "\n"
          ]
        }
      ],
      "execution_count": 15,
      "metadata": {}
    },
    {
      "cell_type": "markdown",
      "source": [
        "###### Submission"
      ],
      "metadata": {}
    },
    {
      "cell_type": "code",
      "source": [
        "predictions_table = test[['app_id']]\n",
        "predictions_table['flag'] = df_seed[['model_' + str(i) for i in range(25)]].mean(1)\n",
        "submission = pd.read_csv('./tables/alfabattle2_alpha_sample.csv')\n",
        "submission = submission[['app_id']]\n",
        "submission = submission.merge(predictions_table, how='inner', on=['app_id'])\n",
        "submission = submission[['app_id', 'flag']]"
      ],
      "outputs": [],
      "execution_count": 19,
      "metadata": {}
    },
    {
      "cell_type": "markdown",
      "source": [
        "_____"
      ],
      "metadata": {}
    },
    {
      "cell_type": "markdown",
      "source": [
        "# Blend with RNN"
      ],
      "metadata": {}
    },
    {
      "cell_type": "code",
      "source": [
        "def sigmoid(x):\n",
        "    return 1 / (1 + np.exp(-x))"
      ],
      "outputs": [],
      "execution_count": null,
      "metadata": {
        "collapsed": true,
        "jupyter": {
          "source_hidden": false,
          "outputs_hidden": false
        },
        "nteract": {
          "transient": {
            "deleting": false
          }
        }
      }
    },
    {
      "cell_type": "markdown",
      "source": [
        "Use answers from advanced baseline of epoches 3, 4, 5"
      ],
      "metadata": {
        "nteract": {
          "transient": {
            "deleting": false
          }
        }
      }
    },
    {
      "cell_type": "code",
      "source": [
        "ep3 = pd.read_csv('./tables/master/nn_submissions/1_epoch_3_val_0.795.pt.csv').rename({'score': 'score3'}, axis=1)\n",
        "ep4 = pd.read_csv('./tables/master/nn_submissions/1_epoch_4_val_0.790.pt.csv').rename({'score': 'score4'}, axis=1)\n",
        "ep5 = pd.read_csv('./tables/master/nn_submissions/1_epoch_5_val_0.792.pt.csv').rename({'score': 'score5'}, axis=1)\n",
        "ep = ep3.merge(ep4, on=['app_id']).merge(ep5, on=['app_id'])\n",
        "ep['flag_nn'] = (ep['score3'] + ep['score4'] + ep['score5']) / 3\n",
        "ep['flag_nn'] = sigmoid(ep['flag_nn'])"
      ],
      "outputs": [],
      "execution_count": null,
      "metadata": {
        "collapsed": true,
        "jupyter": {
          "source_hidden": false,
          "outputs_hidden": false
        },
        "nteract": {
          "transient": {
            "deleting": false
          }
        }
      }
    },
    {
      "cell_type": "code",
      "source": [
        "submission = submission.merge(ep, on=['app_id'])\n",
        "submission['flag'] = 0.6 * submission['flag'] + 0.4 * submission['flag_nn']\n",
        "submission[['app_id', 'flag']].to_csv('./submission.csv', index=False)"
      ],
      "outputs": [],
      "execution_count": null,
      "metadata": {
        "collapsed": true,
        "jupyter": {
          "source_hidden": false,
          "outputs_hidden": false
        },
        "nteract": {
          "transient": {
            "deleting": false
          }
        }
      }
    },
    {
      "cell_type": "markdown",
      "source": [
        "_____"
      ],
      "metadata": {}
    },
    {
      "cell_type": "markdown",
      "source": [
        "_____"
      ],
      "metadata": {}
    },
    {
      "cell_type": "markdown",
      "source": [
        "_____"
      ],
      "metadata": {}
    },
    {
      "cell_type": "markdown",
      "source": [
        "_____"
      ],
      "metadata": {}
    },
    {
      "cell_type": "markdown",
      "source": [
        "_____"
      ],
      "metadata": {}
    },
    {
      "cell_type": "markdown",
      "source": [
        "_____"
      ],
      "metadata": {}
    },
    {
      "cell_type": "markdown",
      "source": [
        "_____"
      ],
      "metadata": {}
    },
    {
      "cell_type": "markdown",
      "source": [
        "_____"
      ],
      "metadata": {}
    },
    {
      "cell_type": "markdown",
      "source": [
        "_____"
      ],
      "metadata": {}
    },
    {
      "cell_type": "markdown",
      "source": [
        "_____"
      ],
      "metadata": {}
    },
    {
      "cell_type": "markdown",
      "source": [
        "_____"
      ],
      "metadata": {}
    },
    {
      "cell_type": "markdown",
      "source": [
        "_____"
      ],
      "metadata": {}
    },
    {
      "cell_type": "markdown",
      "source": [
        "_____"
      ],
      "metadata": {}
    },
    {
      "cell_type": "markdown",
      "source": [
        "_____"
      ],
      "metadata": {}
    },
    {
      "cell_type": "markdown",
      "source": [
        "______"
      ],
      "metadata": {}
    },
    {
      "cell_type": "markdown",
      "source": [
        "______"
      ],
      "metadata": {}
    },
    {
      "cell_type": "markdown",
      "source": [
        "______"
      ],
      "metadata": {}
    },
    {
      "cell_type": "markdown",
      "source": [
        "______"
      ],
      "metadata": {}
    },
    {
      "cell_type": "markdown",
      "source": [
        "______"
      ],
      "metadata": {}
    },
    {
      "cell_type": "markdown",
      "source": [
        "______"
      ],
      "metadata": {}
    },
    {
      "cell_type": "markdown",
      "source": [
        "______"
      ],
      "metadata": {}
    },
    {
      "cell_type": "markdown",
      "source": [
        "______"
      ],
      "metadata": {}
    },
    {
      "cell_type": "markdown",
      "source": [
        "______"
      ],
      "metadata": {}
    },
    {
      "cell_type": "markdown",
      "source": [
        "______"
      ],
      "metadata": {}
    },
    {
      "cell_type": "markdown",
      "source": [
        "______"
      ],
      "metadata": {}
    },
    {
      "cell_type": "markdown",
      "source": [
        "______"
      ],
      "metadata": {}
    },
    {
      "cell_type": "markdown",
      "source": [
        "______"
      ],
      "metadata": {}
    },
    {
      "cell_type": "markdown",
      "source": [
        "______"
      ],
      "metadata": {}
    },
    {
      "cell_type": "markdown",
      "source": [
        "______"
      ],
      "metadata": {}
    },
    {
      "cell_type": "markdown",
      "source": [
        "______"
      ],
      "metadata": {}
    },
    {
      "cell_type": "markdown",
      "source": [
        "______"
      ],
      "metadata": {}
    },
    {
      "cell_type": "markdown",
      "source": [
        "______"
      ],
      "metadata": {}
    },
    {
      "cell_type": "markdown",
      "source": [
        "______"
      ],
      "metadata": {}
    },
    {
      "cell_type": "markdown",
      "source": [
        "______"
      ],
      "metadata": {}
    },
    {
      "cell_type": "markdown",
      "source": [
        "______"
      ],
      "metadata": {}
    },
    {
      "cell_type": "markdown",
      "source": [
        "______"
      ],
      "metadata": {}
    }
  ],
  "metadata": {
    "kernelspec": {
      "display_name": "Python 3",
      "language": "python",
      "name": "python3"
    },
    "language_info": {
      "codemirror_mode": {
        "name": "ipython",
        "version": 3
      },
      "file_extension": ".py",
      "mimetype": "text/x-python",
      "name": "python",
      "nbconvert_exporter": "python",
      "pygments_lexer": "ipython3",
      "version": "3.7.3"
    },
    "nteract": {
      "version": "0.27.0"
    }
  },
  "nbformat": 4,
  "nbformat_minor": 4
}
