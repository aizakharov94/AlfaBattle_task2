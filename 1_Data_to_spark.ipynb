{
  "cells": [
    {
      "cell_type": "code",
      "source": [
        "import warnings\n",
        "warnings.filterwarnings(\"ignore\")"
      ],
      "outputs": [],
      "execution_count": 1,
      "metadata": {}
    },
    {
      "cell_type": "markdown",
      "source": [
        "### Spark"
      ],
      "metadata": {}
    },
    {
      "cell_type": "code",
      "source": [
        "from pyspark import init_spark\n",
        "import pyspark.sql.functions as sf\n",
        "from pyspark.sql.window import Window as sw\n",
        "from pyspark.sql.types import StringType, IntegerType, ArrayType\n",
        "spark = init_spark({\"appName\": 'to_spark'})"
      ],
      "outputs": [],
      "execution_count": 2,
      "metadata": {}
    },
    {
      "cell_type": "markdown",
      "source": [
        "### Imports"
      ],
      "metadata": {}
    },
    {
      "cell_type": "code",
      "source": [
        "import numpy as np\n",
        "import pandas as pd\n",
        "from matplotlib import pyplot as plt\n",
        "from sklearn.metrics import roc_auc_score, precision_score\n",
        "\n",
        "from tqdm import tqdm\n",
        "import seaborn as sns\n",
        "plt.style.use(\"bmh\")\n",
        "plt.rcParams['font.family'] = 'DejaVu Sans'"
      ],
      "outputs": [],
      "execution_count": 2,
      "metadata": {}
    },
    {
      "cell_type": "markdown",
      "source": [
        "# Datasets"
      ],
      "metadata": {}
    },
    {
      "cell_type": "markdown",
      "source": [
        "###### Targets train"
      ],
      "metadata": {}
    },
    {
      "cell_type": "code",
      "source": [
        "target = pd.read_csv('./alfabattle2_train_target.csv')\n",
        "spark.createDataFrame(target).write.format('orc').mode('overwrite').saveAsTable('alfa.andrey_auto_target_train')"
      ],
      "outputs": [],
      "execution_count": 4,
      "metadata": {}
    },
    {
      "cell_type": "markdown",
      "source": [
        "###### Target test"
      ],
      "metadata": {}
    },
    {
      "cell_type": "code",
      "source": [
        "target_test_content = pd.read_csv('./alfabattle2_test_target_contest.csv')\n",
        "spark.createDataFrame(target_test_content).write.format('orc').mode('overwrite').saveAsTable('alfa.andrey_auto_target_test')"
      ],
      "outputs": [],
      "execution_count": 5,
      "metadata": {}
    },
    {
      "cell_type": "markdown",
      "source": [
        "###### Train"
      ],
      "metadata": {}
    },
    {
      "cell_type": "code",
      "source": [
        "train = pd.read_parquet(path='./train_transactions_contest/', engine='pyarrow')"
      ],
      "outputs": [],
      "execution_count": 6,
      "metadata": {}
    },
    {
      "cell_type": "code",
      "source": [
        "%%time\n",
        "possible_mccs = list(train.mcc.value_counts().keys())\n",
        "current_mcc = possible_mccs[0]\n",
        "c_train = train[train.mcc == current_mcc].reset_index(drop=True)\n",
        "spark.createDataFrame(c_train).write.format('orc').mode('overwrite').saveAsTable('alfa.andrey_auto_train')\n",
        "for current_mcc in tqdm(possible_mccs[1:]):\n",
        "    c_train = train[train.mcc == current_mcc].reset_index(drop=True)\n",
        "    spark.createDataFrame(c_train).write.format('orc').mode('append').saveAsTable('alfa.andrey_auto_train')"
      ],
      "outputs": [
        {
          "output_type": "stream",
          "name": "stderr",
          "text": [
            "100%|██████████| 107/107 [56:36<00:00, 31.74s/it]"
          ]
        },
        {
          "output_type": "stream",
          "name": "stdout",
          "text": [
            "CPU times: user 6min 16s, sys: 1min 51s, total: 8min 8s\n",
            "Wall time: 58min 27s\n"
          ]
        },
        {
          "output_type": "stream",
          "name": "stderr",
          "text": [
            "\n"
          ]
        }
      ],
      "execution_count": 7,
      "metadata": {}
    },
    {
      "cell_type": "markdown",
      "source": [
        "###### Test"
      ],
      "metadata": {}
    },
    {
      "cell_type": "code",
      "source": [
        "test = pd.read_parquet(path='./test_transactions_contest/', engine='pyarrow')"
      ],
      "outputs": [],
      "execution_count": 8,
      "metadata": {}
    },
    {
      "cell_type": "code",
      "source": [
        "possible_mccs = list(test.mcc.value_counts().keys())\n",
        "current_mcc = possible_mccs[0]\n",
        "c_test = test[test.mcc == current_mcc].reset_index(drop=True)\n",
        "spark.createDataFrame(c_test).write.format('orc').mode('overwrite').saveAsTable('alfa.andrey_auto_test')\n",
        "for current_mcc in tqdm(possible_mccs[1:]):\n",
        "    c_test = test[test.mcc == current_mcc].reset_index(drop=True)\n",
        "    spark.createDataFrame(c_test).write.format('orc').mode('append').saveAsTable('alfa.andrey_auto_test')"
      ],
      "outputs": [
        {
          "output_type": "stream",
          "name": "stderr",
          "text": [
            "100%|██████████| 107/107 [54:33<00:00, 30.60s/it]\n"
          ]
        }
      ],
      "execution_count": 9,
      "metadata": {}
    },
    {
      "cell_type": "markdown",
      "source": [
        "______"
      ],
      "metadata": {}
    },
    {
      "cell_type": "markdown",
      "source": [
        "______"
      ],
      "metadata": {}
    },
    {
      "cell_type": "markdown",
      "source": [
        "______"
      ],
      "metadata": {}
    },
    {
      "cell_type": "markdown",
      "source": [
        "______"
      ],
      "metadata": {}
    },
    {
      "cell_type": "markdown",
      "source": [
        "______"
      ],
      "metadata": {}
    },
    {
      "cell_type": "markdown",
      "source": [
        "______"
      ],
      "metadata": {}
    },
    {
      "cell_type": "markdown",
      "source": [
        "______"
      ],
      "metadata": {}
    },
    {
      "cell_type": "markdown",
      "source": [
        "______"
      ],
      "metadata": {}
    },
    {
      "cell_type": "markdown",
      "source": [
        "______"
      ],
      "metadata": {}
    },
    {
      "cell_type": "markdown",
      "source": [
        "______"
      ],
      "metadata": {}
    },
    {
      "cell_type": "markdown",
      "source": [
        "______"
      ],
      "metadata": {}
    }
  ],
  "metadata": {
    "kernelspec": {
      "display_name": "Python 3",
      "language": "python",
      "name": "python3"
    },
    "language_info": {
      "codemirror_mode": {
        "name": "ipython",
        "version": 3
      },
      "file_extension": ".py",
      "mimetype": "text/x-python",
      "name": "python",
      "nbconvert_exporter": "python",
      "pygments_lexer": "ipython3",
      "version": "3.7.3"
    },
    "nteract": {
      "version": "0.27.0"
    }
  },
  "nbformat": 4,
  "nbformat_minor": 4
}