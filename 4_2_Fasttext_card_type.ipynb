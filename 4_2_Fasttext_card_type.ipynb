{
  "cells": [
    {
      "cell_type": "code",
      "source": [
        "from pyspark import init_spark\n",
        "import pyspark.sql.functions as sf\n",
        "from pyspark.sql.window import Window as sw\n",
        "from pyspark.sql.types import StringType, IntegerType, ArrayType\n",
        "spark = init_spark({\"appName\": 'fasttext_card_type_features'})"
      ],
      "outputs": [],
      "execution_count": null,
      "metadata": {
        "collapsed": true,
        "jupyter": {
          "source_hidden": false,
          "outputs_hidden": false
        },
        "nteract": {
          "transient": {
            "deleting": false
          }
        }
      }
    },
    {
      "cell_type": "code",
      "source": [
        "# Features for fasttext card_type vector\n",
        "\n",
        "%%time\n",
        "train = spark.table('alfa.andrey_auto_train')\n",
        "train = train.sort(['app_id', 'transaction_number'])\n",
        "train = train.withColumn('card_type', sf.col('card_type').cast(StringType()))\n",
        "train = train.groupBy('app_id').agg(sf.collect_list(\"card_type\").alias('card_type'))\n",
        "target_train = spark.table('alfa.andrey_auto_target_train')\n",
        "target_train = target_train.select(['app_id', 'flag'])\n",
        "train = train.join(target_train, on=['app_id'], how='inner')\n",
        "\n",
        "train = train.toPandas()\n",
        "train['card_type'] = train['card_type'].str.join(' ')\n",
        "train['label'] = train['flag'].map({0: 'good', 1: 'bad'})\n",
        "train['labels_text'] = '__label__' + train['label']\n",
        "train.labels_text = train.labels_text.str.cat(train['card_type'], sep=' ')\n",
        "train = train.sort_values('app_id').reset_index(drop=True)\n",
        "\n",
        "training_file = open('./train_ft_card_type.txt','w')\n",
        "training_file.writelines(train.labels_text + '\\n')\n",
        "training_file.close()\n",
        "train.to_pickle('./train_ft_card_type.pkl')\n",
        "\n",
        "\n",
        "\n",
        "\n",
        "test = spark.table('alfa.andrey_auto_test')\n",
        "test = test.sort(['app_id', 'transaction_number'])\n",
        "test = test.withColumn('card_type', sf.col('card_type').cast(StringType()))\n",
        "test = test.groupBy('app_id').agg(sf.collect_list(\"card_type\").alias('card_type'))\n",
        "\n",
        "test = test.toPandas()\n",
        "test['card_type'] = test['card_type'].str.join(' ')\n",
        "test = test.sort_values('app_id').reset_index(drop=True)\n",
        "test.to_pickle('./test_ft_card_type.pkl')"
      ],
      "outputs": [],
      "execution_count": 1,
      "metadata": {}
    },
    {
      "cell_type": "code",
      "source": [
        "import numpy as np\n",
        "import pandas as pd\n",
        "from matplotlib import pyplot as plt\n",
        "from tqdm.notebook import tqdm_notebook\n",
        "\n",
        "from sklearn.model_selection import StratifiedKFold\n",
        "from sklearn.metrics import roc_auc_score\n",
        "import re\n",
        "import fasttext"
      ],
      "outputs": [],
      "execution_count": 2,
      "metadata": {}
    },
    {
      "cell_type": "markdown",
      "source": [
        "# GridSearch"
      ],
      "metadata": {
        "nteract": {
          "transient": {
            "deleting": false
          }
        }
      }
    },
    {
      "cell_type": "code",
      "source": [
        "def tune(Y, X, YX, Y_int, lr, wordNgrams, epoch, kf):\n",
        "    results = []\n",
        "    for lr_val in lr:\n",
        "        for wordNgrams_val in wordNgrams:\n",
        "            for epoch_val in epoch:\n",
        "                fold_results = []\n",
        "                for train_index, test_index in kf.split(X, Y_int):\n",
        "                    training_file = open('./train_cv.txt','w')\n",
        "                    training_file.writelines(YX[train_index] + '\\n')\n",
        "                    training_file.close()\n",
        "                    model = fasttext.FastText.train_supervised('./train_cv.txt', lr=lr_val, thread=10,\n",
        "                                                               wordNgrams=wordNgrams_val, epoch=epoch_val)\n",
        "                    pred = model.predict(X[test_index].tolist())\n",
        "                    pred = pd.Series(pred[1]).apply(lambda x: 1 - x[0])\n",
        "                    fold_results.append(roc_auc_score(Y_int[test_index], pred.values))\n",
        "                mean_acc = pd.Series(fold_results).mean()\n",
        "                print([lr_val, wordNgrams_val, epoch_val, mean_acc])\n",
        "                results.append([lr_val, wordNgrams_val, epoch_val, mean_acc])         \n",
        "    results = pd.DataFrame(results)\n",
        "    results.columns = ['lr','wordNgrams','epoch','mean_acc']\n",
        "    return(results)\n",
        "\n",
        "# kf = StratifiedKFold(n_splits=10, shuffle=True, random_state=42)\n",
        "# results = tune(Y=train['label'], X=train['card_type'], Y_int=train['label_int'], YX=train['labels_text'],\n",
        "#                lr=[0.1], wordNgrams=[2], epoch=[15, 16, 17, 18, 19, 20, 21, 22, 23, 24, 25], kf=kf)"
      ],
      "outputs": [],
      "execution_count": 3,
      "metadata": {}
    },
    {
      "cell_type": "markdown",
      "source": [
        "# Main 10 folds"
      ],
      "metadata": {}
    },
    {
      "cell_type": "code",
      "source": [
        "train = pd.read_pickle('./tables_ft_card_type/train_ft_card_type.pkl')\n",
        "train['label_int'] = (train['label'] == 'bad').astype(int)\n",
        "test = pd.read_pickle('./tables_ft_card_type/test_ft_card_type.pkl')"
      ],
      "outputs": [],
      "execution_count": 4,
      "metadata": {}
    },
    {
      "cell_type": "code",
      "source": [
        "0kf = StratifiedKFold(n_splits=10, shuffle=True, random_state=42)\n",
        "dfs_5 = []\n",
        "i = 0\n",
        "for train_index, test_index in tqdm_notebook(kf.split(X=train['card_type'], y=train['label_int'])):\n",
        "    training_file = open('./tables_ft_card_type/train_cv.txt','w')\n",
        "    training_file.writelines(train['labels_text'][train_index] + '\\n')\n",
        "    training_file.close()\n",
        "\n",
        "    model_ft = fasttext.FastText.train_supervised('./tables_ft_card_type/train_cv.txt', lr=0.1, wordNgrams=2,\n",
        "                                                  epoch=22, seed=42, thread=10)\n",
        "    pred = model_ft.predict(train['card_type'][test_index].tolist())\n",
        "    pred = pd.Series(pred[1]).apply(lambda x: 1 - x[0]).values\n",
        "    \n",
        "    dfs_5.append(pd.DataFrame({'app_id': train['app_id'][test_index].values,\n",
        "                               'scores_ft_card_type_2': pred, 'k': i},\n",
        "                              index=test_index))\n",
        "    i += 1\n",
        "dfs_5 = pd.concat(dfs_5).sort_index()\n",
        "dfs_5.to_csv('./fasttext_result_tables/ft_cv_card_type_fix.csv', index=False)"
      ],
      "outputs": [
        {
          "output_type": "display_data",
          "data": {
            "application/vnd.jupyter.widget-view+json": {
              "model_id": "dab77f4760314f9b94f231e5ad608b94",
              "version_major": 2,
              "version_minor": 0
            },
            "text/plain": "HBox(children=(HTML(value=''), FloatProgress(value=1.0, bar_style='info', layout=Layout(width='20px'), max=1.0…"
          },
          "metadata": {}
        },
        {
          "output_type": "stream",
          "name": "stdout",
          "text": [
            "\n"
          ]
        }
      ],
      "execution_count": 6,
      "metadata": {}
    },
    {
      "cell_type": "code",
      "source": [
        "training_file = open('./tables_ft_card_type/train_cv.txt','w')\n",
        "training_file.writelines(train['labels_text'] + '\\n')\n",
        "training_file.close()\n",
        "model_ft = fasttext.FastText.train_supervised('./tables_ft_card_type/train_cv.txt', lr=0.1, wordNgrams=2,\n",
        "                                              epoch=22, seed=42, thread=10)\n",
        "pred = model_ft.predict(test['card_type'].tolist())\n",
        "pred = pd.Series(pred[1]).apply(lambda x: 1 - x[0]).values\n",
        "\n",
        "df_test_5 = test[['app_id']]\n",
        "df_test_5['scores_ft_card_type_2'] = pred\n",
        "df_test_5.to_csv('./fasttext_result_tables/ft_test_card_type_fix.csv', index=False)"
      ],
      "outputs": [],
      "execution_count": 7,
      "metadata": {}
    },
    {
      "cell_type": "markdown",
      "source": [
        "______"
      ],
      "metadata": {}
    },
    {
      "cell_type": "markdown",
      "source": [
        "______"
      ],
      "metadata": {}
    },
    {
      "cell_type": "markdown",
      "source": [
        "______"
      ],
      "metadata": {}
    },
    {
      "cell_type": "markdown",
      "source": [
        "______"
      ],
      "metadata": {}
    },
    {
      "cell_type": "markdown",
      "source": [
        "______"
      ],
      "metadata": {}
    },
    {
      "cell_type": "markdown",
      "source": [
        "______"
      ],
      "metadata": {}
    },
    {
      "cell_type": "markdown",
      "source": [
        "______"
      ],
      "metadata": {}
    },
    {
      "cell_type": "markdown",
      "source": [
        "______"
      ],
      "metadata": {}
    },
    {
      "cell_type": "markdown",
      "source": [
        "______"
      ],
      "metadata": {}
    },
    {
      "cell_type": "markdown",
      "source": [
        "______"
      ],
      "metadata": {}
    },
    {
      "cell_type": "markdown",
      "source": [
        "______"
      ],
      "metadata": {}
    },
    {
      "cell_type": "markdown",
      "source": [
        "______"
      ],
      "metadata": {}
    },
    {
      "cell_type": "markdown",
      "source": [
        "______"
      ],
      "metadata": {}
    },
    {
      "cell_type": "markdown",
      "source": [
        "______"
      ],
      "metadata": {}
    }
  ],
  "metadata": {
    "kernelspec": {
      "display_name": "Python 3",
      "language": "python",
      "name": "python3"
    },
    "language_info": {
      "codemirror_mode": {
        "name": "ipython",
        "version": 3
      },
      "file_extension": ".py",
      "mimetype": "text/x-python",
      "name": "python",
      "nbconvert_exporter": "python",
      "pygments_lexer": "ipython3",
      "version": "3.8.5"
    },
    "nteract": {
      "version": "0.27.0"
    }
  },
  "nbformat": 4,
  "nbformat_minor": 4
}